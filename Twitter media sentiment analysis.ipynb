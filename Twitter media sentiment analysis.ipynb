{
  "nbformat": 4,
  "nbformat_minor": 0,
  "metadata": {
    "kernelspec": {
      "display_name": "Python 3",
      "language": "python",
      "name": "python3"
    },
    "language_info": {
      "codemirror_mode": {
        "name": "ipython",
        "version": 3
      },
      "file_extension": ".py",
      "mimetype": "text/x-python",
      "name": "python",
      "nbconvert_exporter": "python",
      "pygments_lexer": "ipython3",
      "version": "3.7.6"
    },
    "colab": {
      "name": "Sentiment Analysis of Media Tweets (1).ipynb",
      "provenance": []
    },
    "accelerator": "GPU"
  },
  "cells": [
    {
      "cell_type": "markdown",
      "metadata": {
        "id": "3y7KsHmc41zn",
        "colab_type": "text"
      },
      "source": [
        "<h1>Distinguishing Sentiments</h1>"
      ]
    },
    {
      "cell_type": "markdown",
      "metadata": {
        "id": "RhP5IvgH41zo",
        "colab_type": "text"
      },
      "source": [
        "![](Twitter.jpg)"
      ]
    },
    {
      "cell_type": "markdown",
      "metadata": {
        "id": "4JRbZg7l41zq",
        "colab_type": "text"
      },
      "source": [
        "<h2> Table of contents</h2>\n",
        "1. Introduction\n",
        "2. Import libraries\n",
        "3. Setup Tweepy API Authentication\n",
        "4. Use Twitter API to obtain tweets for Media Sources\n",
        "5. Generated dataframe containing sentiment for Media Sources\n",
        "6. Save df_sentiment_analysis as a csv titled, 'Sentiment_analyzer_Twitter.csv'\n",
        "7. Generated dataframes for all media sources\n",
        "8. Plot of Sentiment Analysis for Media Tweets\n",
        "9. Generated Overall Media Sentiment based on Twitter table\n",
        "10. Plot of Overall Media Sentiment Analysis\n",
        "11. Generated average sentiment scores dataframe\n",
        "12. Relationship Plot for Polarity Scores\n",
        "13. Conclusion"
      ]
    },
    {
      "cell_type": "markdown",
      "metadata": {
        "id": "Sa3fQGxP41zr",
        "colab_type": "text"
      },
      "source": [
        "<h3><u>Instructions</u></h3>"
      ]
    },
    {
      "cell_type": "markdown",
      "metadata": {
        "id": "lzZOqS9y41zs",
        "colab_type": "text"
      },
      "source": [
        "*In* this project, the goal is to create a Python script to perform a sentiment analysis of the Twitter activity of various news outlets and to present your findings visually."
      ]
    },
    {
      "cell_type": "markdown",
      "metadata": {
        "id": "V03P1xBz41zs",
        "colab_type": "text"
      },
      "source": [
        "<h3><u>Import libraries</u></h3>"
      ]
    },
    {
      "cell_type": "code",
      "metadata": {
        "id": "BHCEMyS141zt",
        "colab_type": "code",
        "colab": {
          "base_uri": "https://localhost:8080/",
          "height": 591
        },
        "outputId": "be8dcf31-2a51-4024-949c-e459a2794f21"
      },
      "source": [
        "!pip install tweepy\n",
        "import tweepy\n",
        "import numpy as np\n",
        "import pandas as pd\n",
        "from datetime import datetime\n",
        "import matplotlib.pyplot as plt\n",
        "%matplotlib inline\n",
        "!pip install seaborn\n",
        "import numpy as np\n",
        "import seaborn as sns\n",
        "#from my_keys import *\n",
        "import warnings\n",
        "warnings.filterwarnings('ignore')\n",
        "!pip install vaderSentiment\n",
        "from vaderSentiment.vaderSentiment import SentimentIntensityAnalyzer"
      ],
      "execution_count": 1,
      "outputs": [
        {
          "output_type": "stream",
          "text": [
            "Requirement already satisfied: tweepy in /usr/local/lib/python3.6/dist-packages (3.6.0)\n",
            "Requirement already satisfied: six>=1.10.0 in /usr/local/lib/python3.6/dist-packages (from tweepy) (1.15.0)\n",
            "Requirement already satisfied: PySocks>=1.5.7 in /usr/local/lib/python3.6/dist-packages (from tweepy) (1.7.1)\n",
            "Requirement already satisfied: requests-oauthlib>=0.7.0 in /usr/local/lib/python3.6/dist-packages (from tweepy) (1.3.0)\n",
            "Requirement already satisfied: requests>=2.11.1 in /usr/local/lib/python3.6/dist-packages (from tweepy) (2.23.0)\n",
            "Requirement already satisfied: oauthlib>=3.0.0 in /usr/local/lib/python3.6/dist-packages (from requests-oauthlib>=0.7.0->tweepy) (3.1.0)\n",
            "Requirement already satisfied: idna<3,>=2.5 in /usr/local/lib/python3.6/dist-packages (from requests>=2.11.1->tweepy) (2.10)\n",
            "Requirement already satisfied: certifi>=2017.4.17 in /usr/local/lib/python3.6/dist-packages (from requests>=2.11.1->tweepy) (2020.6.20)\n",
            "Requirement already satisfied: urllib3!=1.25.0,!=1.25.1,<1.26,>=1.21.1 in /usr/local/lib/python3.6/dist-packages (from requests>=2.11.1->tweepy) (1.24.3)\n",
            "Requirement already satisfied: chardet<4,>=3.0.2 in /usr/local/lib/python3.6/dist-packages (from requests>=2.11.1->tweepy) (3.0.4)\n",
            "Requirement already satisfied: seaborn in /usr/local/lib/python3.6/dist-packages (0.10.1)\n",
            "Requirement already satisfied: matplotlib>=2.1.2 in /usr/local/lib/python3.6/dist-packages (from seaborn) (3.2.2)\n",
            "Requirement already satisfied: scipy>=1.0.1 in /usr/local/lib/python3.6/dist-packages (from seaborn) (1.4.1)\n",
            "Requirement already satisfied: numpy>=1.13.3 in /usr/local/lib/python3.6/dist-packages (from seaborn) (1.18.5)\n",
            "Requirement already satisfied: pandas>=0.22.0 in /usr/local/lib/python3.6/dist-packages (from seaborn) (1.0.5)\n",
            "Requirement already satisfied: python-dateutil>=2.1 in /usr/local/lib/python3.6/dist-packages (from matplotlib>=2.1.2->seaborn) (2.8.1)\n",
            "Requirement already satisfied: kiwisolver>=1.0.1 in /usr/local/lib/python3.6/dist-packages (from matplotlib>=2.1.2->seaborn) (1.2.0)\n",
            "Requirement already satisfied: cycler>=0.10 in /usr/local/lib/python3.6/dist-packages (from matplotlib>=2.1.2->seaborn) (0.10.0)\n",
            "Requirement already satisfied: pyparsing!=2.0.4,!=2.1.2,!=2.1.6,>=2.0.1 in /usr/local/lib/python3.6/dist-packages (from matplotlib>=2.1.2->seaborn) (2.4.7)\n",
            "Requirement already satisfied: pytz>=2017.2 in /usr/local/lib/python3.6/dist-packages (from pandas>=0.22.0->seaborn) (2018.9)\n",
            "Requirement already satisfied: six>=1.5 in /usr/local/lib/python3.6/dist-packages (from python-dateutil>=2.1->matplotlib>=2.1.2->seaborn) (1.15.0)\n"
          ],
          "name": "stdout"
        },
        {
          "output_type": "stream",
          "text": [
            "/usr/local/lib/python3.6/dist-packages/statsmodels/tools/_testing.py:19: FutureWarning: pandas.util.testing is deprecated. Use the functions in the public API at pandas.testing instead.\n",
            "  import pandas.util.testing as tm\n"
          ],
          "name": "stderr"
        },
        {
          "output_type": "stream",
          "text": [
            "Collecting vaderSentiment\n",
            "\u001b[?25l  Downloading https://files.pythonhosted.org/packages/76/fc/310e16254683c1ed35eeb97386986d6c00bc29df17ce280aed64d55537e9/vaderSentiment-3.3.2-py2.py3-none-any.whl (125kB)\n",
            "\r\u001b[K     |██▋                             | 10kB 23.1MB/s eta 0:00:01\r\u001b[K     |█████▏                          | 20kB 2.8MB/s eta 0:00:01\r\u001b[K     |███████▉                        | 30kB 3.8MB/s eta 0:00:01\r\u001b[K     |██████████▍                     | 40kB 4.1MB/s eta 0:00:01\r\u001b[K     |█████████████                   | 51kB 3.3MB/s eta 0:00:01\r\u001b[K     |███████████████▋                | 61kB 3.7MB/s eta 0:00:01\r\u001b[K     |██████████████████▏             | 71kB 4.1MB/s eta 0:00:01\r\u001b[K     |████████████████████▉           | 81kB 4.3MB/s eta 0:00:01\r\u001b[K     |███████████████████████▍        | 92kB 4.6MB/s eta 0:00:01\r\u001b[K     |██████████████████████████      | 102kB 4.5MB/s eta 0:00:01\r\u001b[K     |████████████████████████████▋   | 112kB 4.5MB/s eta 0:00:01\r\u001b[K     |███████████████████████████████▏| 122kB 4.5MB/s eta 0:00:01\r\u001b[K     |████████████████████████████████| 133kB 4.5MB/s \n",
            "\u001b[?25hRequirement already satisfied: requests in /usr/local/lib/python3.6/dist-packages (from vaderSentiment) (2.23.0)\n",
            "Requirement already satisfied: idna<3,>=2.5 in /usr/local/lib/python3.6/dist-packages (from requests->vaderSentiment) (2.10)\n",
            "Requirement already satisfied: urllib3!=1.25.0,!=1.25.1,<1.26,>=1.21.1 in /usr/local/lib/python3.6/dist-packages (from requests->vaderSentiment) (1.24.3)\n",
            "Requirement already satisfied: chardet<4,>=3.0.2 in /usr/local/lib/python3.6/dist-packages (from requests->vaderSentiment) (3.0.4)\n",
            "Requirement already satisfied: certifi>=2017.4.17 in /usr/local/lib/python3.6/dist-packages (from requests->vaderSentiment) (2020.6.20)\n",
            "Installing collected packages: vaderSentiment\n",
            "Successfully installed vaderSentiment-3.3.2\n"
          ],
          "name": "stdout"
        }
      ]
    },
    {
      "cell_type": "markdown",
      "metadata": {
        "id": "6T8LdzUP41z1",
        "colab_type": "text"
      },
      "source": [
        "<h3><u>Setup Tweepy API Authentication</u></h3>"
      ]
    },
    {
      "cell_type": "code",
      "metadata": {
        "id": "rDmVzVF_41z2",
        "colab_type": "code",
        "colab": {}
      },
      "source": [
        "# Setup Tweepy API Authentication\n",
        "\n",
        "auth = tweepy.OAuthHandler(consumer_key, consumer_secret)\n",
        "#auth.set_access_token(access_token, access_token_secret)\n",
        "api = tweepy.API(auth, parser=tweepy.parsers.JSONParser())"
      ],
      "execution_count": 2,
      "outputs": []
    },
    {
      "cell_type": "markdown",
      "metadata": {
        "id": "2FRU1ldr41z8",
        "colab_type": "text"
      },
      "source": [
        "<h3><u>Use Twitter API to obtain tweets for Media Sources</u></h3>"
      ]
    },
    {
      "cell_type": "code",
      "metadata": {
        "id": "OMNMWh0K41z9",
        "colab_type": "code",
        "colab": {}
      },
      "source": [
        "#Sentiment Intensitiy Analyzer\n",
        "analyzer = SentimentIntensityAnalyzer()\n",
        "\n",
        "#Target Account for each Media Source\n",
        "target_user = [\"@BBC\",\"@CBS\",\"@Fox\",\"@CNN\",\"@nytimes\"]\n",
        "\n",
        "# Variables for holding sentiments\n",
        "sentiments = []\n",
        "\n",
        "# Loop through 5 pages of tweets (total 100 tweets)\n",
        "for x in range(5):\n",
        "    \n",
        "   \n",
        "    #loop through each Media Source\n",
        "    for target in target_user:\n",
        "        # Get all tweets from home feed\n",
        "        public_tweets = api.user_timeline(target)\n",
        "             \n",
        "\n",
        "        # Loop through all tweets \n",
        "        for tweet in public_tweets:\n",
        "            \n",
        "            \n",
        "        # Run vaderSentiment on each tweet\n",
        "            results = analyzer.polarity_scores(tweet[\"text\"])\n",
        "            compound = results[\"compound\"]\n",
        "            pos = results[\"pos\"]\n",
        "            neu = results[\"neu\"]\n",
        "            neg = results[\"neg\"]\n",
        "            \n",
        "           \n",
        "        \n",
        "            # Add sentiments for each tweet into an array\n",
        "            sentiments.append({\"Date\": tweet[\"created_at\"],\n",
        "                               \"Screen_Name\": tweet['user']['screen_name'],\n",
        "                               \"Compound\": compound,\n",
        "                               \"Positive\": pos,\n",
        "                               \"Negative\": neu,\n",
        "                               \"Neutral\": neg})                     "
      ],
      "execution_count": 3,
      "outputs": []
    },
    {
      "cell_type": "markdown",
      "metadata": {
        "id": "1gE62EYW410C",
        "colab_type": "text"
      },
      "source": [
        "<h3><u>Generated dataframe containing sentiment for Media Sources</u></h3>"
      ]
    },
    {
      "cell_type": "code",
      "metadata": {
        "id": "NVB26Rd6410D",
        "colab_type": "code",
        "colab": {
          "base_uri": "https://localhost:8080/",
          "height": 195
        },
        "outputId": "e9ac2550-5c28-496e-fe99-f9fe26c2be43"
      },
      "source": [
        "#Generated dataframe containing sentiment for Media Sources\n",
        "df_sentiment_analysis= pd.DataFrame(sentiments) \n",
        "\n",
        "#display head of df_sentiment_analysis \n",
        "df_sentiment_analysis.head()"
      ],
      "execution_count": 4,
      "outputs": [
        {
          "output_type": "execute_result",
          "data": {
            "text/html": [
              "<div>\n",
              "<style scoped>\n",
              "    .dataframe tbody tr th:only-of-type {\n",
              "        vertical-align: middle;\n",
              "    }\n",
              "\n",
              "    .dataframe tbody tr th {\n",
              "        vertical-align: top;\n",
              "    }\n",
              "\n",
              "    .dataframe thead th {\n",
              "        text-align: right;\n",
              "    }\n",
              "</style>\n",
              "<table border=\"1\" class=\"dataframe\">\n",
              "  <thead>\n",
              "    <tr style=\"text-align: right;\">\n",
              "      <th></th>\n",
              "      <th>Date</th>\n",
              "      <th>Screen_Name</th>\n",
              "      <th>Compound</th>\n",
              "      <th>Positive</th>\n",
              "      <th>Negative</th>\n",
              "      <th>Neutral</th>\n",
              "    </tr>\n",
              "  </thead>\n",
              "  <tbody>\n",
              "    <tr>\n",
              "      <th>0</th>\n",
              "      <td>Thu Aug 27 16:01:00 +0000 2020</td>\n",
              "      <td>BBC</td>\n",
              "      <td>0.0000</td>\n",
              "      <td>0.000</td>\n",
              "      <td>1.000</td>\n",
              "      <td>0.000</td>\n",
              "    </tr>\n",
              "    <tr>\n",
              "      <th>1</th>\n",
              "      <td>Wed Aug 26 13:30:15 +0000 2020</td>\n",
              "      <td>BBC</td>\n",
              "      <td>0.0000</td>\n",
              "      <td>0.000</td>\n",
              "      <td>1.000</td>\n",
              "      <td>0.000</td>\n",
              "    </tr>\n",
              "    <tr>\n",
              "      <th>2</th>\n",
              "      <td>Wed Aug 26 11:00:20 +0000 2020</td>\n",
              "      <td>BBC</td>\n",
              "      <td>0.4199</td>\n",
              "      <td>0.141</td>\n",
              "      <td>0.859</td>\n",
              "      <td>0.000</td>\n",
              "    </tr>\n",
              "    <tr>\n",
              "      <th>3</th>\n",
              "      <td>Tue Aug 25 16:01:00 +0000 2020</td>\n",
              "      <td>BBC</td>\n",
              "      <td>0.0000</td>\n",
              "      <td>0.000</td>\n",
              "      <td>1.000</td>\n",
              "      <td>0.000</td>\n",
              "    </tr>\n",
              "    <tr>\n",
              "      <th>4</th>\n",
              "      <td>Tue Aug 25 15:34:58 +0000 2020</td>\n",
              "      <td>BBC</td>\n",
              "      <td>-0.3612</td>\n",
              "      <td>0.000</td>\n",
              "      <td>0.902</td>\n",
              "      <td>0.098</td>\n",
              "    </tr>\n",
              "  </tbody>\n",
              "</table>\n",
              "</div>"
            ],
            "text/plain": [
              "                             Date Screen_Name  ...  Negative  Neutral\n",
              "0  Thu Aug 27 16:01:00 +0000 2020         BBC  ...     1.000    0.000\n",
              "1  Wed Aug 26 13:30:15 +0000 2020         BBC  ...     1.000    0.000\n",
              "2  Wed Aug 26 11:00:20 +0000 2020         BBC  ...     0.859    0.000\n",
              "3  Tue Aug 25 16:01:00 +0000 2020         BBC  ...     1.000    0.000\n",
              "4  Tue Aug 25 15:34:58 +0000 2020         BBC  ...     0.902    0.098\n",
              "\n",
              "[5 rows x 6 columns]"
            ]
          },
          "metadata": {
            "tags": []
          },
          "execution_count": 4
        }
      ]
    },
    {
      "cell_type": "markdown",
      "metadata": {
        "id": "HWc4oo8S410I",
        "colab_type": "text"
      },
      "source": [
        "<h3><u>Save df_sentiment_analysis as a csv titled, 'Sentiment_analyzer_Twitter.csv'</u></h3>"
      ]
    },
    {
      "cell_type": "code",
      "metadata": {
        "id": "6W3a7H7n410J",
        "colab_type": "code",
        "colab": {}
      },
      "source": [
        "#Save df_sentiment_analysis as a csv titled, 'Sentiment_analyzer_Twitter.csv'.\n",
        "df_sentiment_analysis.to_csv('Sentiment_analyzer_Twitter.csv',index=False)"
      ],
      "execution_count": 5,
      "outputs": []
    },
    {
      "cell_type": "markdown",
      "metadata": {
        "id": "vzXHrxAM410P",
        "colab_type": "text"
      },
      "source": [
        "<h3><u>Generated dataframes for all media sources</u></h3>"
      ]
    },
    {
      "cell_type": "code",
      "metadata": {
        "id": "bpZOHlH7410Q",
        "colab_type": "code",
        "colab": {}
      },
      "source": [
        "#Generated dataframes for all the media sources\n",
        "df_BBC = df_sentiment_analysis[df_sentiment_analysis['Screen_Name'] == 'BBC']\n",
        "df_CBS = df_sentiment_analysis[df_sentiment_analysis['Screen_Name'] == 'CBS']\n",
        "df_fox = df_sentiment_analysis[df_sentiment_analysis['Screen_Name'] == 'fox']\n",
        "df_CNN = df_sentiment_analysis[df_sentiment_analysis['Screen_Name'] == 'CNN']\n",
        "df_nytimes = df_sentiment_analysis[df_sentiment_analysis['Screen_Name'] == 'nytimes']"
      ],
      "execution_count": 6,
      "outputs": []
    },
    {
      "cell_type": "markdown",
      "metadata": {
        "id": "iyBaAwX1410U",
        "colab_type": "text"
      },
      "source": [
        "<h3><u>Plot of Sentiment Analysis for Media Tweets</u></h3>"
      ]
    },
    {
      "cell_type": "code",
      "metadata": {
        "id": "dEb-LMPf410V",
        "colab_type": "code",
        "colab": {
          "base_uri": "https://localhost:8080/",
          "height": 362
        },
        "outputId": "313b5f7b-5856-4f15-aa45-a3f4479c1ac0"
      },
      "source": [
        "#Plot of Sentiment Analysis of Media Tweets\n",
        "x_values = np.arange(1,df_BBC.shape[0]+1)\n",
        "\n",
        "\n",
        "plt.figure(figsize=(10,5))\n",
        "plt.scatter(x_values[::-1],df_BBC['Compound'],edgecolors='black',label='BBC')\n",
        "\n",
        "\n",
        "plt.scatter(x_values[::-1],df_CBS['Compound'],edgecolors='black',label = 'CBS')\n",
        "plt.scatter(x_values[::-1],df_CNN['Compound'],edgecolors='black',color='yellow',label='CNN')\n",
        "plt.scatter(x_values[::-1],df_fox['Compound'],edgecolors='black',color='b',label='Fox')\n",
        "plt.scatter(x_values[::-1],df_nytimes['Compound'],edgecolors='black',color='green',label='New York Times')\n",
        "\n",
        "plt.legend(frameon=True,shadow= True,edgecolor='black',fontsize = 'large', title='Media Sources', bbox_to_anchor=(1, 1))\n",
        "plt.xlim(0,100)\n",
        "plt.xlabel('Tweets Ago',fontsize='18')\n",
        "plt.ylabel('Tweet Polarity',fontsize='18')\n",
        "\n",
        "now = datetime.now()\n",
        "now = now.strftime(\"%m/%d/%Y\")\n",
        "plt.title('Sentiment Analysis of Media Tweets ({})'.format(now),fontsize=(18))\n",
        "\n",
        "plt.xlim(100,0);"
      ],
      "execution_count": 7,
      "outputs": [
        {
          "output_type": "display_data",
          "data": {
            "image/png": "[encoded data removed]",
            "text/plain": [
              "<Figure size 720x360 with 1 Axes>"
            ]
          },
          "metadata": {
            "tags": [],
            "needs_background": "light"
          }
        }
      ]
    },
    {
      "cell_type": "markdown",
      "metadata": {
        "id": "7Ko_I-xi410a",
        "colab_type": "text"
      },
      "source": [
        "<h3><u>Generated Overall Media Sentiment based on Twitter table</u></h3>"
      ]
    },
    {
      "cell_type": "code",
      "metadata": {
        "id": "E0lIdCgV410b",
        "colab_type": "code",
        "colab": {
          "base_uri": "https://localhost:8080/",
          "height": 138
        },
        "outputId": "38c762a1-e8e0-4999-e948-6f9f5229c211"
      },
      "source": [
        "#Overall Media Sentiment based on Twitter table\n",
        "df_sentiment_analysis_avg_compound = df_sentiment_analysis.groupby([\"Screen_Name\"])[\"Compound\"].mean().reset_index()\n",
        "\n",
        "\n",
        "#rename the columns in df_sentiment_analysis_avg_compound dataframe \n",
        "df_sentiment_analysis_avg_compound.rename({'Screen_Name': 'Media Sources','Compound':  'Avg. Compound'},axis=1,inplace=True)\n",
        "\n",
        "#plot bars in df_sentiment_analysis_avg_compound dataframe\n",
        "df_sentiment_analysis_avg_compound.style.bar(subset=['Avg. Compound'], align='mid', color=['blue', 'red'])"
      ],
      "execution_count": 8,
      "outputs": [
        {
          "output_type": "execute_result",
          "data": {
            "text/html": [
              "<style  type=\"text/css\" >\n",
              "    #T_185d77c6_e8d6_11ea_97c5_0242ac1c0002row0_col1 {\n",
              "            width:  10em;\n",
              "             height:  80%;\n",
              "            background:  linear-gradient(90deg, transparent 10.6%, red 10.6%, red 34.8%, transparent 34.8%);\n",
              "        }    #T_185d77c6_e8d6_11ea_97c5_0242ac1c0002row1_col1 {\n",
              "            width:  10em;\n",
              "             height:  80%;\n",
              "            background:  linear-gradient(90deg, transparent 10.6%, red 10.6%, red 99.2%, transparent 99.2%);\n",
              "        }    #T_185d77c6_e8d6_11ea_97c5_0242ac1c0002row2_col1 {\n",
              "            width:  10em;\n",
              "             height:  80%;\n",
              "            background:  linear-gradient(90deg, transparent 10.6%, red 10.6%, red 23.9%, transparent 23.9%);\n",
              "        }    #T_185d77c6_e8d6_11ea_97c5_0242ac1c0002row3_col1 {\n",
              "            width:  10em;\n",
              "             height:  80%;\n",
              "            background:  linear-gradient(90deg, transparent 10.6%, red 10.6%, red 100.0%, transparent 100.0%);\n",
              "        }    #T_185d77c6_e8d6_11ea_97c5_0242ac1c0002row4_col1 {\n",
              "            width:  10em;\n",
              "             height:  80%;\n",
              "            background:  linear-gradient(90deg,blue 10.6%, transparent 10.6%);\n",
              "        }</style><table id=\"T_185d77c6_e8d6_11ea_97c5_0242ac1c0002\" ><thead>    <tr>        <th class=\"blank level0\" ></th>        <th class=\"col_heading level0 col0\" >Media Sources</th>        <th class=\"col_heading level0 col1\" >Avg. Compound</th>    </tr></thead><tbody>\n",
              "                <tr>\n",
              "                        <th id=\"T_185d77c6_e8d6_11ea_97c5_0242ac1c0002level0_row0\" class=\"row_heading level0 row0\" >0</th>\n",
              "                        <td id=\"T_185d77c6_e8d6_11ea_97c5_0242ac1c0002row0_col0\" class=\"data row0 col0\" >BBC</td>\n",
              "                        <td id=\"T_185d77c6_e8d6_11ea_97c5_0242ac1c0002row0_col1\" class=\"data row0 col1\" >0.070795</td>\n",
              "            </tr>\n",
              "            <tr>\n",
              "                        <th id=\"T_185d77c6_e8d6_11ea_97c5_0242ac1c0002level0_row1\" class=\"row_heading level0 row1\" >1</th>\n",
              "                        <td id=\"T_185d77c6_e8d6_11ea_97c5_0242ac1c0002row1_col0\" class=\"data row1 col0\" >CBS</td>\n",
              "                        <td id=\"T_185d77c6_e8d6_11ea_97c5_0242ac1c0002row1_col1\" class=\"data row1 col1\" >0.258880</td>\n",
              "            </tr>\n",
              "            <tr>\n",
              "                        <th id=\"T_185d77c6_e8d6_11ea_97c5_0242ac1c0002level0_row2\" class=\"row_heading level0 row2\" >2</th>\n",
              "                        <td id=\"T_185d77c6_e8d6_11ea_97c5_0242ac1c0002row2_col0\" class=\"data row2 col0\" >CNN</td>\n",
              "                        <td id=\"T_185d77c6_e8d6_11ea_97c5_0242ac1c0002row2_col1\" class=\"data row2 col1\" >0.038745</td>\n",
              "            </tr>\n",
              "            <tr>\n",
              "                        <th id=\"T_185d77c6_e8d6_11ea_97c5_0242ac1c0002level0_row3\" class=\"row_heading level0 row3\" >3</th>\n",
              "                        <td id=\"T_185d77c6_e8d6_11ea_97c5_0242ac1c0002row3_col0\" class=\"data row3 col0\" >fox</td>\n",
              "                        <td id=\"T_185d77c6_e8d6_11ea_97c5_0242ac1c0002row3_col1\" class=\"data row3 col1\" >0.261175</td>\n",
              "            </tr>\n",
              "            <tr>\n",
              "                        <th id=\"T_185d77c6_e8d6_11ea_97c5_0242ac1c0002level0_row4\" class=\"row_heading level0 row4\" >4</th>\n",
              "                        <td id=\"T_185d77c6_e8d6_11ea_97c5_0242ac1c0002row4_col0\" class=\"data row4 col0\" >nytimes</td>\n",
              "                        <td id=\"T_185d77c6_e8d6_11ea_97c5_0242ac1c0002row4_col1\" class=\"data row4 col1\" >-0.030990</td>\n",
              "            </tr>\n",
              "    </tbody></table>"
            ],
            "text/plain": [
              "<pandas.io.formats.style.Styler at 0x7f9d9f1754e0>"
            ]
          },
          "metadata": {
            "tags": []
          },
          "execution_count": 8
        }
      ]
    },
    {
      "cell_type": "markdown",
      "metadata": {
        "id": "5DIJONjW410f",
        "colab_type": "text"
      },
      "source": [
        "<h3><u>Plot of Overall Media Sentiment Analysis</u></h3>"
      ]
    },
    {
      "cell_type": "code",
      "metadata": {
        "id": "BtopY5G1410g",
        "colab_type": "code",
        "colab": {
          "base_uri": "https://localhost:8080/",
          "height": 362
        },
        "outputId": "5f6c02c7-b511-4c1b-db89-045110552f67"
      },
      "source": [
        "#Plot of overall Media Sentiment Analysis\n",
        "plt.figure(figsize=(10,5))\n",
        "df_sentiment_analysis.groupby([\"Screen_Name\"])[\"Compound\"].mean().plot(kind='bar',color=['r','b','y','g'])\n",
        "\n",
        "plt.ylabel('Tweet Polarity',fontsize='18')\n",
        "plt.xlabel('Media Sources',fontsize='18')\n",
        "plt.xticks(rotation=0)\n",
        "now = datetime.now()\n",
        "now = now.strftime(\"%m/%d/%Y\")\n",
        "plt.title('Overall Media Sentiment based on Twitter ({})'.format(now),fontsize=(18));\n"
      ],
      "execution_count": 9,
      "outputs": [
        {
          "output_type": "display_data",
          "data": {
            "image/png": "[encoded data removed]",
            "text/plain": [
              "<Figure size 720x360 with 1 Axes>"
            ]
          },
          "metadata": {
            "tags": [],
            "needs_background": "light"
          }
        }
      ]
    },
    {
      "cell_type": "markdown",
      "metadata": {
        "id": "lYEr3ZdI410m",
        "colab_type": "text"
      },
      "source": [
        "<h3><u>Generated average sentiment scores dataframe</u></h3>"
      ]
    },
    {
      "cell_type": "code",
      "metadata": {
        "id": "B0mnVmUM410n",
        "colab_type": "code",
        "colab": {}
      },
      "source": [
        "df_sentiment_analysis_avg_neg = df_sentiment_analysis.groupby(['Screen_Name'])['Negative'].mean().reset_index()\n",
        "df_sentiment_analysis_avg_neg.rename({'Screen_Name': 'Media Sources',\n",
        "                                              'Negative':'Avg. Negative'},axis=1,inplace=True)\n",
        "\n",
        "df_sentiment_analysis_avg_pos = df_sentiment_analysis.groupby(['Screen_Name'])['Positive'].mean().reset_index()\n",
        "df_sentiment_analysis_avg_pos.rename({'Screen_Name': 'Media Sources',\n",
        "                                              'Positive': 'Avg. Positive'},axis=1,inplace=True)\n",
        "\n",
        "df_sentiment_analysis_avg_neu = df_sentiment_analysis.groupby(['Screen_Name'])['Neutral'].mean().reset_index()\n",
        "df_sentiment_analysis_avg_neu.rename({'Screen_Name': 'Media Sources',\n",
        "                                              'Neutral' :'Avg. Neutral'},axis=1,inplace=True)"
      ],
      "execution_count": 10,
      "outputs": []
    },
    {
      "cell_type": "code",
      "metadata": {
        "id": "Ob87jDtF410s",
        "colab_type": "code",
        "colab": {
          "base_uri": "https://localhost:8080/",
          "height": 195
        },
        "outputId": "7d06a126-df0f-4b14-a15b-b501feb4922f"
      },
      "source": [
        "df_avg_sentiment_neg_pos = df_sentiment_analysis_avg_neg.merge(df_sentiment_analysis_avg_pos,how='outer',on='Media Sources')\n",
        "df_avg_sentiment_neg_pos_neu = df_avg_sentiment_neg_pos.merge(df_sentiment_analysis_avg_neu,how='outer',on='Media Sources')\n",
        "df_avg_sentiment_neg_pos_neu_compound = df_avg_sentiment_neg_pos_neu.merge(df_sentiment_analysis_avg_compound,how='outer',on='Media Sources')\n",
        "\n",
        "#Display table\n",
        "df_avg_sentiment_neg_pos_neu_compound"
      ],
      "execution_count": 11,
      "outputs": [
        {
          "output_type": "execute_result",
          "data": {
            "text/html": [
              "<div>\n",
              "<style scoped>\n",
              "    .dataframe tbody tr th:only-of-type {\n",
              "        vertical-align: middle;\n",
              "    }\n",
              "\n",
              "    .dataframe tbody tr th {\n",
              "        vertical-align: top;\n",
              "    }\n",
              "\n",
              "    .dataframe thead th {\n",
              "        text-align: right;\n",
              "    }\n",
              "</style>\n",
              "<table border=\"1\" class=\"dataframe\">\n",
              "  <thead>\n",
              "    <tr style=\"text-align: right;\">\n",
              "      <th></th>\n",
              "      <th>Media Sources</th>\n",
              "      <th>Avg. Negative</th>\n",
              "      <th>Avg. Positive</th>\n",
              "      <th>Avg. Neutral</th>\n",
              "      <th>Avg. Compound</th>\n",
              "    </tr>\n",
              "  </thead>\n",
              "  <tbody>\n",
              "    <tr>\n",
              "      <th>0</th>\n",
              "      <td>BBC</td>\n",
              "      <td>0.90060</td>\n",
              "      <td>0.05785</td>\n",
              "      <td>0.04160</td>\n",
              "      <td>0.070795</td>\n",
              "    </tr>\n",
              "    <tr>\n",
              "      <th>1</th>\n",
              "      <td>CBS</td>\n",
              "      <td>0.82575</td>\n",
              "      <td>0.13420</td>\n",
              "      <td>0.04010</td>\n",
              "      <td>0.258880</td>\n",
              "    </tr>\n",
              "    <tr>\n",
              "      <th>2</th>\n",
              "      <td>CNN</td>\n",
              "      <td>0.90230</td>\n",
              "      <td>0.05285</td>\n",
              "      <td>0.04485</td>\n",
              "      <td>0.038745</td>\n",
              "    </tr>\n",
              "    <tr>\n",
              "      <th>3</th>\n",
              "      <td>fox</td>\n",
              "      <td>0.82615</td>\n",
              "      <td>0.12790</td>\n",
              "      <td>0.04595</td>\n",
              "      <td>0.261175</td>\n",
              "    </tr>\n",
              "    <tr>\n",
              "      <th>4</th>\n",
              "      <td>nytimes</td>\n",
              "      <td>0.91990</td>\n",
              "      <td>0.03120</td>\n",
              "      <td>0.04890</td>\n",
              "      <td>-0.030990</td>\n",
              "    </tr>\n",
              "  </tbody>\n",
              "</table>\n",
              "</div>"
            ],
            "text/plain": [
              "  Media Sources  Avg. Negative  Avg. Positive  Avg. Neutral  Avg. Compound\n",
              "0           BBC        0.90060        0.05785       0.04160       0.070795\n",
              "1           CBS        0.82575        0.13420       0.04010       0.258880\n",
              "2           CNN        0.90230        0.05285       0.04485       0.038745\n",
              "3           fox        0.82615        0.12790       0.04595       0.261175\n",
              "4       nytimes        0.91990        0.03120       0.04890      -0.030990"
            ]
          },
          "metadata": {
            "tags": []
          },
          "execution_count": 11
        }
      ]
    },
    {
      "cell_type": "code",
      "metadata": {
        "id": "vRZEhycr410x",
        "colab_type": "code",
        "colab": {}
      },
      "source": [
        "df_sentiment_analysis_neg_neu_pos = df_sentiment_analysis[['Negative', 'Neutral', 'Positive', 'Screen_Name']]\n",
        "df_sentiment_analysis_neg_neu_pos.rename({'Screen_Name':'Media Sources'},axis= 1,inplace=True)"
      ],
      "execution_count": 12,
      "outputs": []
    },
    {
      "cell_type": "markdown",
      "metadata": {
        "id": "h43IGT4l4102",
        "colab_type": "text"
      },
      "source": [
        "<h3><u>Relationship Plot for Polarity Scores</u></h3>"
      ]
    },
    {
      "cell_type": "code",
      "metadata": {
        "id": "yINpijeB4103",
        "colab_type": "code",
        "colab": {
          "base_uri": "https://localhost:8080/",
          "height": 567
        },
        "outputId": "2b85d90d-9796-4ae8-c184-d11de53a50a7"
      },
      "source": [
        "sns.pairplot(df_sentiment_analysis_neg_neu_pos,hue='Media Sources',palette='plasma');\n",
        "#sns.pairplot(df_sentiment_analysis_neg_neu_pos,palette='plasma')"
      ],
      "execution_count": 14,
      "outputs": [
        {
          "output_type": "display_data",
          "data": {
            "image/png": "[encoded data removed]",
            "text/plain": [
              "<Figure size 620.625x540 with 12 Axes>"
            ]
          },
          "metadata": {
            "tags": [],
            "needs_background": "light"
          }
        }
      ]
    },
    {
      "cell_type": "markdown",
      "metadata": {
        "id": "kpyES1B75jT1",
        "colab_type": "text"
      },
      "source": [
        ""
      ]
    },
    {
      "cell_type": "markdown",
      "metadata": {
        "id": "BwCjj1bA4107",
        "colab_type": "text"
      },
      "source": [
        "<h3><u>Conclusion</u></h3>\n",
        "<p>While performing a sentiment analysis for Tweets from various news outlets, I noticed a few different insights. The insights are below: </p>\n",
        "<h4><u>Insights</u></h4>\n",
        "<ul>\n",
        "<li>In the Correlation Plot for Polarity Scores, there is a correlation between positive and negative polarities. As the positivity decreased the negative polarities increased for each media source. </li> \n",
        "<p><li>In the Overall Media Sentiment Analysis Plot, NYtimes appears to have more negative compound tweets.\n",
        " </li><br>\n",
        "<li>CBS has the highest positive polarity scores when compared to all other media sources.</li>\n",
        "</ul>"
      ]
    },
    {
      "cell_type": "code",
      "metadata": {
        "id": "_GR_FwrD4108",
        "colab_type": "code",
        "colab": {}
      },
      "source": [
        ""
      ],
      "execution_count": null,
      "outputs": []
    }
  ]
}